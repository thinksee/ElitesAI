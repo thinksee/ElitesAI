{
 "cells": [
  {
   "cell_type": "markdown",
   "metadata": {},
   "source": [
    "## Tensor概述\n",
    "对于Tensor的操作很多，从接口角度来讲，可以分为两类\n",
    "- torch.function，如torch.sum、torch.add等\n",
    "- tensor.function，如tensor.view、tensor.add等\n",
    "\n",
    "其中，关于Tensor很多操作都是等价的，如torch.add(x, y)和x.add(y)等价。\n",
    "\n",
    "从修改方式的角度来看，可以分为两类：\n",
    "- 不修改自身数据，如x.add(y)，x的数据不变，返回一个新的Tensor。\n",
    "- 修改自身数据，如x.add_(y)（运算符带下划线），运算结果存在x中。"
   ]
  },
  {
   "cell_type": "code",
   "execution_count": 1,
   "metadata": {},
   "outputs": [],
   "source": [
    "import torch"
   ]
  },
  {
   "cell_type": "code",
   "execution_count": 2,
   "metadata": {},
   "outputs": [
    {
     "name": "stdout",
     "output_type": "stream",
     "text": [
      "tensor([1, 2]) tensor([3, 4]) tensor([4, 6])\n",
      "tensor([5, 8])\n"
     ]
    }
   ],
   "source": [
    "x = torch.tensor([1,2])\n",
    "y = torch.tensor([3,4])\n",
    "z = x.add(y)\n",
    "print(x, y, z)\n",
    "x.add_(z)\n",
    "print(x)"
   ]
  },
  {
   "cell_type": "markdown",
   "metadata": {},
   "source": [
    "## 创建Tensor"
   ]
  },
  {
   "cell_type": "code",
   "execution_count": 4,
   "metadata": {},
   "outputs": [
    {
     "name": "stdout",
     "output_type": "stream",
     "text": [
      "tensor([1., 2., 3., 4., 5., 6.])\n",
      "tensor([[1.7502e+05, 7.6091e-43, 8.4078e-45],\n",
      "        [0.0000e+00, 1.4013e-45, 0.0000e+00]])\n",
      "torch.Size([2, 3])\n",
      "torch.Size([2, 3])\n",
      "tensor([[0.0000e+00, 0.0000e+00, 2.1019e-44],\n",
      "        [0.0000e+00, 1.8208e+03, 7.6091e-43]])\n"
     ]
    }
   ],
   "source": [
    "# 依据list数据生成Tensor\n",
    "print(torch.Tensor([1,2,3,4,5,6]))\n",
    "# 指定形状生成Tensor\n",
    "print(torch.Tensor(2,3))\n",
    "# 直接给定Tensor的形状\n",
    "t = torch.Tensor([[1,2,3],[4,5,6]])\n",
    "# 查看Tensor形状\n",
    "print(t.size())\n",
    "# shape与size()等价方式\n",
    "print(t.shape)\n",
    "# 依据已有形状创建Tensor\n",
    "print(torch.Tensor(t.size()))"
   ]
  },
  {
   "cell_type": "markdown",
   "metadata": {},
   "source": [
    "**torch.Tensor**和**torch.tensor**的区别\n",
    "- torch.Tensor是torch.empty和torch.tensor之间的一种混合，传入数据时，torch.Tensor使用全局默认dtype(FloatTensor)，而torch.tensor是从数据中推断数据类型。\n",
    "- torch.tensor(1)返回一个固定值1，而torch.Tensor(1)返回的是一大小为1的张量，它是随机初始化的值。"
   ]
  },
  {
   "cell_type": "code",
   "execution_count": 6,
   "metadata": {},
   "outputs": [
    {
     "name": "stdout",
     "output_type": "stream",
     "text": [
      "tensor([9.8265e-39]) torch.FloatTensor tensor(1) torch.LongTensor\n"
     ]
    }
   ],
   "source": [
    "t1 = torch.Tensor(1)\n",
    "t2 = torch.tensor(1)\n",
    "print(t1, t1.type(), t2, t2.type())"
   ]
  },
  {
   "cell_type": "markdown",
   "metadata": {},
   "source": [
    "自动生成Tensor的一些例子"
   ]
  },
  {
   "cell_type": "code",
   "execution_count": 7,
   "metadata": {},
   "outputs": [
    {
     "name": "stdout",
     "output_type": "stream",
     "text": [
      "tensor([[1., 0.],\n",
      "        [0., 1.]])\n",
      "tensor([[0., 0., 0.],\n",
      "        [0., 0., 0.]])\n",
      "tensor([ 1.,  4.,  7., 10.])\n",
      "tensor([[0.0394, 0.6398, 0.0280],\n",
      "        [0.6528, 0.4758, 0.0115]])\n",
      "tensor([[-1.1267,  1.8329, -1.5849],\n",
      "        [ 1.3063, -0.5739,  0.1458]])\n",
      "tensor([[0., 0., 0.],\n",
      "        [0., 0., 0.]])\n"
     ]
    }
   ],
   "source": [
    "# 生成一个单位矩阵\n",
    "print(torch.eye(2,2))\n",
    "# 自动生成全是0的矩阵\n",
    "print(torch.zeros(2,3))\n",
    "# \n",
    "print(torch.linspace(1, 10, 4))\n",
    "# 生成满足均匀分布随机数\n",
    "print(torch.rand(2,3))\n",
    "# 生成满足标准分布随机数\n",
    "print(torch.randn(2,3))\n",
    "# 返回所给数据形状相同，值全为0的张量\n",
    "print(torch.zeros_like(torch.rand(2,3)))"
   ]
  },
  {
   "cell_type": "markdown",
   "metadata": {},
   "source": [
    "## 修改Tensor形状"
   ]
  },
  {
   "cell_type": "code",
   "execution_count": 8,
   "metadata": {},
   "outputs": [
    {
     "name": "stdout",
     "output_type": "stream",
     "text": [
      "torch.Size([2, 3])\n",
      "2\n",
      "tensor([[ 0.3625,  0.0661],\n",
      "        [-0.0812,  1.6973],\n",
      "        [-0.0054, -1.4974]])\n",
      "torch.Size([6]) torch.Size([2, 3])\n",
      "tensor([[ 0.3625,  0.0661, -0.0812,  1.6973, -0.0054, -1.4974]]) torch.Size([1, 6])\n",
      "6\n"
     ]
    }
   ],
   "source": [
    "x = torch.randn(2, 3)\n",
    "print(x.size())\n",
    "print(x.dim())\n",
    "# 修改x的形状\n",
    "print(x.view(3,2))\n",
    "y = x.view(-1)\n",
    "print(y.shape, x.shape)\n",
    "z = torch.unsqueeze(y, 0)  # 对y添加一个维度\n",
    "print(z, z.size())\n",
    "print(z.numel())  #计算z中元素的个数"
   ]
  },
  {
   "cell_type": "markdown",
   "metadata": {},
   "source": [
    "## 索引操作"
   ]
  },
  {
   "cell_type": "code",
   "execution_count": 10,
   "metadata": {},
   "outputs": [
    {
     "name": "stdout",
     "output_type": "stream",
     "text": [
      "tensor([[ 1.2372, -0.9604,  1.5415],\n",
      "        [-0.4079,  0.8806,  0.0529]])\n",
      "The First Row tensor([ 1.2372, -0.9604,  1.5415])\n",
      "The last col tensor([1.5415, 0.0529])\n",
      "生成是否大于0的Byter张量 tensor([[ True, False,  True],\n",
      "        [False,  True,  True]])\n",
      "tensor([1.2372, 1.5415, 0.8806, 0.0529])\n",
      "tensor([[0, 0],\n",
      "        [0, 2],\n",
      "        [1, 1],\n",
      "        [1, 2]])\n",
      "index tensor([[0, 1, 1]])\n",
      "tensor([[1.2372, 0.8806, 0.0529]])\n",
      "index tensor([[0, 1, 1],\n",
      "        [1, 1, 1]])\n",
      "a tensor([[ 1.2372, -0.9604, -0.9604],\n",
      "        [ 0.8806,  0.8806,  0.8806]])\n",
      "tensor([[0., 0., 0.],\n",
      "        [0., 0., 0.]])\n",
      "tensor([[ 1.2372, -0.9604,  0.0000],\n",
      "        [ 0.0000,  0.8806,  0.0000]])\n"
     ]
    }
   ],
   "source": [
    "# 设置一个随机种子\n",
    "torch.manual_seed(2020)\n",
    "# 生成一个2x3的矩阵\n",
    "x = torch.randn(2, 3)\n",
    "print(x)\n",
    "print('The First Row', x[0,:])\n",
    "print('The last col', x[:, -1])\n",
    "mask = x > 0\n",
    "print('生成是否大于0的Byter张量', mask)\n",
    "# 获取其值\n",
    "print(torch.masked_select(x, mask))\n",
    "# 获取非0下标，即行列坐标\n",
    "print(torch.nonzero(mask))  # False:0, True:1\n",
    "index = torch.LongTensor([[0, 1, 1]]) \n",
    "print('index', index)\n",
    "# out[i][j][k] = input[index[i][j][k]][j][k]  # dim=0\n",
    "# out[i][j][k] = input[i][index[i][j][k]][k]  # dim=1\n",
    "# out[i][j][k] = input[i][j][index[i][j][k]]  # dim=2\n",
    "\n",
    "print(torch.gather(x, 0, index)) # torch.gather(input, dim, index, out=None) → Tensor\n",
    "index = torch.LongTensor([[0,1,1], [1,1,1]])\n",
    "print('index', index)\n",
    "a = torch.gather(x, 1, index)\n",
    "print('a', a)\n",
    "z = torch.zeros(2,3)\n",
    "print(z)\n",
    "z.scatter_(1, index, a)\n",
    "print(z)"
   ]
  },
  {
   "cell_type": "markdown",
   "metadata": {},
   "source": [
    "## 广播机制"
   ]
  },
  {
   "cell_type": "code",
   "execution_count": null,
   "metadata": {},
   "outputs": [],
   "source": []
  }
 ],
 "metadata": {
  "kernelspec": {
   "display_name": "Python 3",
   "language": "python",
   "name": "python3"
  },
  "language_info": {
   "codemirror_mode": {
    "name": "ipython",
    "version": 3
   },
   "file_extension": ".py",
   "mimetype": "text/x-python",
   "name": "python",
   "nbconvert_exporter": "python",
   "pygments_lexer": "ipython3",
   "version": "3.7.4"
  }
 },
 "nbformat": 4,
 "nbformat_minor": 4
}
